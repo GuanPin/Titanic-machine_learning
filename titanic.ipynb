{
 "cells": [
  {
   "cell_type": "code",
   "execution_count": 1,
   "metadata": {},
   "outputs": [
    {
     "data": {
      "application/javascript": [
       "IPython.OutputArea.prototype._should_scroll = function(lines) {\n",
       "    return false;\n",
       "}\n"
      ],
      "text/plain": [
       "<IPython.core.display.Javascript object>"
      ]
     },
     "metadata": {},
     "output_type": "display_data"
    }
   ],
   "source": [
    "%%javascript\n",
    "IPython.OutputArea.prototype._should_scroll = function(lines) {\n",
    "    return false;\n",
    "}"
   ]
  },
  {
   "cell_type": "code",
   "execution_count": 2,
   "metadata": {},
   "outputs": [],
   "source": [
    "import numpy as np\n",
    "import pandas as pd\n",
    "import matplotlib.pyplot as plt\n",
    "import seaborn as sns\n",
    "from sklearn.preprocessing import LabelEncoder\n",
    "from sklearn.feature_extraction import DictVectorizer\n",
    "from sklearn.linear_model import LogisticRegression\n",
    "from sklearn.ensemble import RandomForestClassifier\n",
    "from sklearn.model_selection import train_test_split, cross_val_score, cross_validate\n",
    "from sklearn.tree import export_graphviz"
   ]
  },
  {
   "cell_type": "code",
   "execution_count": 3,
   "metadata": {},
   "outputs": [
    {
     "name": "stdout",
     "output_type": "stream",
     "text": [
      "(891, 12)\n"
     ]
    },
    {
     "data": {
      "text/html": [
       "<div>\n",
       "<style scoped>\n",
       "    .dataframe tbody tr th:only-of-type {\n",
       "        vertical-align: middle;\n",
       "    }\n",
       "\n",
       "    .dataframe tbody tr th {\n",
       "        vertical-align: top;\n",
       "    }\n",
       "\n",
       "    .dataframe thead th {\n",
       "        text-align: right;\n",
       "    }\n",
       "</style>\n",
       "<table border=\"1\" class=\"dataframe\">\n",
       "  <thead>\n",
       "    <tr style=\"text-align: right;\">\n",
       "      <th></th>\n",
       "      <th>PassengerId</th>\n",
       "      <th>Survived</th>\n",
       "      <th>Pclass</th>\n",
       "      <th>Name</th>\n",
       "      <th>Sex</th>\n",
       "      <th>Age</th>\n",
       "      <th>SibSp</th>\n",
       "      <th>Parch</th>\n",
       "      <th>Ticket</th>\n",
       "      <th>Fare</th>\n",
       "      <th>Cabin</th>\n",
       "      <th>Embarked</th>\n",
       "    </tr>\n",
       "  </thead>\n",
       "  <tbody>\n",
       "    <tr>\n",
       "      <th>0</th>\n",
       "      <td>1</td>\n",
       "      <td>0</td>\n",
       "      <td>3</td>\n",
       "      <td>Braund, Mr. Owen Harris</td>\n",
       "      <td>male</td>\n",
       "      <td>22.0</td>\n",
       "      <td>1</td>\n",
       "      <td>0</td>\n",
       "      <td>A/5 21171</td>\n",
       "      <td>7.2500</td>\n",
       "      <td>NaN</td>\n",
       "      <td>S</td>\n",
       "    </tr>\n",
       "    <tr>\n",
       "      <th>1</th>\n",
       "      <td>2</td>\n",
       "      <td>1</td>\n",
       "      <td>1</td>\n",
       "      <td>Cumings, Mrs. John Bradley (Florence Briggs Th...</td>\n",
       "      <td>female</td>\n",
       "      <td>38.0</td>\n",
       "      <td>1</td>\n",
       "      <td>0</td>\n",
       "      <td>PC 17599</td>\n",
       "      <td>71.2833</td>\n",
       "      <td>C85</td>\n",
       "      <td>C</td>\n",
       "    </tr>\n",
       "    <tr>\n",
       "      <th>2</th>\n",
       "      <td>3</td>\n",
       "      <td>1</td>\n",
       "      <td>3</td>\n",
       "      <td>Heikkinen, Miss. Laina</td>\n",
       "      <td>female</td>\n",
       "      <td>26.0</td>\n",
       "      <td>0</td>\n",
       "      <td>0</td>\n",
       "      <td>STON/O2. 3101282</td>\n",
       "      <td>7.9250</td>\n",
       "      <td>NaN</td>\n",
       "      <td>S</td>\n",
       "    </tr>\n",
       "    <tr>\n",
       "      <th>3</th>\n",
       "      <td>4</td>\n",
       "      <td>1</td>\n",
       "      <td>1</td>\n",
       "      <td>Futrelle, Mrs. Jacques Heath (Lily May Peel)</td>\n",
       "      <td>female</td>\n",
       "      <td>35.0</td>\n",
       "      <td>1</td>\n",
       "      <td>0</td>\n",
       "      <td>113803</td>\n",
       "      <td>53.1000</td>\n",
       "      <td>C123</td>\n",
       "      <td>S</td>\n",
       "    </tr>\n",
       "    <tr>\n",
       "      <th>4</th>\n",
       "      <td>5</td>\n",
       "      <td>0</td>\n",
       "      <td>3</td>\n",
       "      <td>Allen, Mr. William Henry</td>\n",
       "      <td>male</td>\n",
       "      <td>35.0</td>\n",
       "      <td>0</td>\n",
       "      <td>0</td>\n",
       "      <td>373450</td>\n",
       "      <td>8.0500</td>\n",
       "      <td>NaN</td>\n",
       "      <td>S</td>\n",
       "    </tr>\n",
       "  </tbody>\n",
       "</table>\n",
       "</div>"
      ],
      "text/plain": [
       "   PassengerId  Survived  Pclass  \\\n",
       "0            1         0       3   \n",
       "1            2         1       1   \n",
       "2            3         1       3   \n",
       "3            4         1       1   \n",
       "4            5         0       3   \n",
       "\n",
       "                                                Name     Sex   Age  SibSp  \\\n",
       "0                            Braund, Mr. Owen Harris    male  22.0      1   \n",
       "1  Cumings, Mrs. John Bradley (Florence Briggs Th...  female  38.0      1   \n",
       "2                             Heikkinen, Miss. Laina  female  26.0      0   \n",
       "3       Futrelle, Mrs. Jacques Heath (Lily May Peel)  female  35.0      1   \n",
       "4                           Allen, Mr. William Henry    male  35.0      0   \n",
       "\n",
       "   Parch            Ticket     Fare Cabin Embarked  \n",
       "0      0         A/5 21171   7.2500   NaN        S  \n",
       "1      0          PC 17599  71.2833   C85        C  \n",
       "2      0  STON/O2. 3101282   7.9250   NaN        S  \n",
       "3      0            113803  53.1000  C123        S  \n",
       "4      0            373450   8.0500   NaN        S  "
      ]
     },
     "execution_count": 3,
     "metadata": {},
     "output_type": "execute_result"
    }
   ],
   "source": [
    "df_train=pd.read_csv(\"C:/Users/user/workspace/data/titanic/train.csv\")\n",
    "print(df_train.shape)\n",
    "df_train.head(5)"
   ]
  },
  {
   "cell_type": "code",
   "execution_count": 4,
   "metadata": {},
   "outputs": [],
   "source": [
    "df_test=pd.read_csv(\"C:/Users/user/workspace/data/titanic/test.csv\")\n",
    "#df_test.head(5)"
   ]
  },
  {
   "cell_type": "code",
   "execution_count": 5,
   "metadata": {
    "scrolled": true
   },
   "outputs": [
    {
     "name": "stdout",
     "output_type": "stream",
     "text": [
      "PassengerId      0\n",
      "Survived         0\n",
      "Pclass           0\n",
      "Name             0\n",
      "Sex              0\n",
      "Age            177\n",
      "SibSp            0\n",
      "Parch            0\n",
      "Ticket           0\n",
      "Fare             0\n",
      "Cabin          687\n",
      "Embarked         2\n",
      "dtype: int64\n",
      "0    549\n",
      "1    342\n",
      "Name: Survived, dtype: int64 \n",
      "\n",
      "3    491\n",
      "1    216\n",
      "2    184\n",
      "Name: Pclass, dtype: int64 \n",
      "\n",
      "male      577\n",
      "female    314\n",
      "Name: Sex, dtype: int64 \n",
      "\n",
      "S    644\n",
      "C    168\n",
      "Q     77\n",
      "Name: Embarked, dtype: int64 \n",
      "\n"
     ]
    }
   ],
   "source": [
    "df_train1=df_train.copy(deep=True)\n",
    "\n",
    "print(df_train.isna().sum())\n",
    "\n",
    "survived_counts=np.array(df_train1['Survived'].value_counts())\n",
    "pclass_counts=np.array(df_train1['Pclass'].value_counts())\n",
    "sex_counts=np.array(df_train1['Sex'].value_counts())\n",
    "embarked_counts=np.array(df_train1['Embarked'].value_counts())\n",
    "print(df_train1['Survived'].value_counts(), '\\n')\n",
    "print(df_train1['Pclass'].value_counts(), '\\n')\n",
    "print(df_train1['Sex'].value_counts(), '\\n')\n",
    "print(df_train1['Embarked'].value_counts(), '\\n')\n",
    "\n",
    "df_train1['Embarked']=df_train1['Embarked'].fillna('S')"
   ]
  },
  {
   "cell_type": "code",
   "execution_count": 6,
   "metadata": {
    "scrolled": true
   },
   "outputs": [
    {
     "name": "stdout",
     "output_type": "stream",
     "text": [
      "age mean = 29.7 \n",
      "age median = 28.0 \n",
      "age mode = 24.0\n"
     ]
    },
    {
     "name": "stderr",
     "output_type": "stream",
     "text": [
      "C:\\Users\\user\\anaconda3\\lib\\site-packages\\seaborn\\distributions.py:2551: FutureWarning: `distplot` is a deprecated function and will be removed in a future version. Please adapt your code to use either `displot` (a figure-level function with similar flexibility) or `histplot` (an axes-level function for histograms).\n",
      "  warnings.warn(msg, FutureWarning)\n",
      "C:\\Users\\user\\anaconda3\\lib\\site-packages\\seaborn\\distributions.py:2551: FutureWarning: `distplot` is a deprecated function and will be removed in a future version. Please adapt your code to use either `displot` (a figure-level function with similar flexibility) or `histplot` (an axes-level function for histograms).\n",
      "  warnings.warn(msg, FutureWarning)\n"
     ]
    },
    {
     "data": {
      "image/png": "[encoded data removed]",
      "text/plain": [
       "<Figure size 1152x288 with 2 Axes>"
      ]
     },
     "metadata": {
      "needs_background": "light"
     },
     "output_type": "display_data"
    }
   ],
   "source": [
    "#age missing value treatment\n",
    "#data visualization\n",
    "\n",
    "print('age mean = %.1f' % df_train['Age'].mean(), '\\n'+\n",
    "     'age median =', df_train['Age'].median(), '\\n'+\n",
    "     'age mode =', df_train['Age'].value_counts().index[0])\n",
    "\n",
    "df_train1['Age']=df_train1['Age'].fillna(df_train1['Age'].median())\n",
    "\n",
    "plt.figure(figsize=(16, 4))\n",
    "plt.subplot(1, 2, 1)\n",
    "sns.distplot(df_train['Age'])\n",
    "plt.yticks([i/100 for i in range(0,5,1)])\n",
    "plt.ylim(0,0.05)\n",
    "plt.title('age distribution (missing value)')\n",
    "\n",
    "plt.subplot(1, 2, 2)\n",
    "#sns.kdeplot(df_train1['Age'], shade=True, color='red')\n",
    "sns.distplot(df_train1['Age'], color='red')\n",
    "plt.yticks([i/100 for i in range(0,5,1)])\n",
    "plt.ylim(0,0.05)\n",
    "plt.title('age distribution (no missing value)')\n",
    "plt.show()"
   ]
  },
  {
   "cell_type": "code",
   "execution_count": 7,
   "metadata": {
    "scrolled": true
   },
   "outputs": [
    {
     "data": {
      "image/png": "[encoded data removed]",
      "text/plain": [
       "<Figure size 1296x432 with 4 Axes>"
      ]
     },
     "metadata": {},
     "output_type": "display_data"
    }
   ],
   "source": [
    "#data visualization (category variable)\n",
    "\n",
    "plt.figure(figsize=(18, 6))\n",
    "\n",
    "plt.subplot(1, 4, 1)\n",
    "plt.pie(survived_counts, colors=['red', 'blue'], autopct='%.2f%%', textprops={'fontsize': 15})\n",
    "plt.legend(['dead', 'survived'], loc='best', fontsize=11)\n",
    "plt.title('Survived', fontsize=15)\n",
    "plt.axis('equal')\n",
    "\n",
    "plt.subplot(1, 4, 2)\n",
    "plt.pie(pclass_counts, colors=['red', 'blue', 'green'], autopct='%.2f%%', textprops={'fontsize': 15})\n",
    "plt.legend(['3rd', '1st', '2nd'], loc='best', fontsize=11)\n",
    "plt.title('Ticket Class', fontsize=15)\n",
    "plt.axis('equal')\n",
    "\n",
    "plt.subplot(1, 4, 3)\n",
    "plt.pie(sex_counts, colors=['red', 'blue'], autopct='%.2f%%', textprops={'fontsize': 15})\n",
    "plt.legend(['male', 'female'], loc='best', fontsize=11)\n",
    "plt.title('Sex', fontsize=15)\n",
    "plt.axis('equal')\n",
    "\n",
    "plt.subplot(1, 4, 4)\n",
    "plt.pie(embarked_counts, colors=['red', 'blue', 'green'], autopct='%.2f%%', textprops={'fontsize': 15})\n",
    "plt.legend(['Southampton', 'Cherbourg', 'Queenstown'], loc='best', fontsize=11)\n",
    "plt.title('Port of Embarkation', fontsize=15)\n",
    "plt.axis('equal')\n",
    "plt.show()"
   ]
  },
  {
   "cell_type": "code",
   "execution_count": 8,
   "metadata": {},
   "outputs": [
    {
     "name": "stdout",
     "output_type": "stream",
     "text": [
      "    Age  SibSp  Parch     Fare  Sex_male  Embarked_Q  Embarked_S\n",
      "0  22.0      1      0   7.2500         1           0           1\n",
      "1  38.0      1      0  71.2833         0           0           0\n",
      "2  26.0      0      0   7.9250         0           0           1\n",
      "3  35.0      1      0  53.1000         0           0           1\n",
      "4  35.0      0      0   8.0500         1           0           1 \n",
      "\n",
      "Age           float64\n",
      "SibSp           int64\n",
      "Parch           int64\n",
      "Fare          float64\n",
      "Sex_male        uint8\n",
      "Embarked_Q      uint8\n",
      "Embarked_S      uint8\n",
      "dtype: object \n",
      "\n",
      "<class 'pandas.core.frame.DataFrame'>\n",
      "RangeIndex: 891 entries, 0 to 890\n",
      "Data columns (total 7 columns):\n",
      " #   Column      Non-Null Count  Dtype  \n",
      "---  ------      --------------  -----  \n",
      " 0   Age         891 non-null    float64\n",
      " 1   SibSp       891 non-null    int64  \n",
      " 2   Parch       891 non-null    int64  \n",
      " 3   Fare        891 non-null    float64\n",
      " 4   Sex_male    891 non-null    uint8  \n",
      " 5   Embarked_Q  891 non-null    uint8  \n",
      " 6   Embarked_S  891 non-null    uint8  \n",
      "dtypes: float64(2), int64(2), uint8(3)\n",
      "memory usage: 30.6 KB\n",
      "None \n",
      "\n",
      "0    0\n",
      "1    1\n",
      "2    1\n",
      "3    1\n",
      "4    0\n",
      "5    0\n",
      "6    0\n",
      "7    0\n",
      "8    1\n",
      "9    1\n",
      "Name: Survived, dtype: int64\n"
     ]
    }
   ],
   "source": [
    "#model feature selection\n",
    "\n",
    "x=df_train1.drop(['PassengerId', 'Survived', 'Pclass', 'Name', 'Ticket', 'Cabin'], axis='columns')\n",
    "#labelencoder=LabelEncoder()\n",
    "#x.Pclass=labelencoder.fit_transform(x.Pclass)\n",
    "x=pd.get_dummies(x, columns=['Sex', 'Embarked'])\n",
    "x=x.drop(['Sex_female', 'Embarked_C'], axis='columns')\n",
    "print(x.head(5), '\\n')\n",
    "print(x.dtypes, '\\n')\n",
    "#print(x.isna().sum(), '\\n')\n",
    "print(x.info(), '\\n')\n",
    "\n",
    "y=df_train1.Survived\n",
    "print(y.head(10))"
   ]
  },
  {
   "cell_type": "code",
   "execution_count": 9,
   "metadata": {},
   "outputs": [
    {
     "name": "stdout",
     "output_type": "stream",
     "text": [
      "['Age', 'Embarked_Q', 'Embarked_S', 'Fare', 'Parch', 'Sex_male', 'SibSp']\n",
      "[[28.  1.  0. ...  0.  1.  2.]\n",
      " [30.  0.  0. ...  0.  0.  0.]\n",
      " [34.  0.  1. ...  0.  0.  0.]\n",
      " ...\n",
      " [21.  0.  1. ...  0.  1.  0.]\n",
      " [28.  0.  1. ...  0.  0.  0.]\n",
      " [21.  0.  1. ...  0.  1.  0.]]\n"
     ]
    }
   ],
   "source": [
    "#model feature treatment (dataframe to matrix)\n",
    "\n",
    "dvec=DictVectorizer(sparse=False)\n",
    "x1=dvec.fit_transform(x.to_dict(orient='records'))\n",
    "#x_test=dvec.transform(x_test.to_dict(orient='records'))\n",
    "# 列印特徵向量格式\n",
    "print(dvec.feature_names_)\n",
    "\n",
    "x_train, x_test, y_train, y_test=train_test_split(x1, y, random_state=1, train_size=0.8)\n",
    "print(x_train)"
   ]
  },
  {
   "cell_type": "code",
   "execution_count": 10,
   "metadata": {
    "scrolled": true
   },
   "outputs": [
    {
     "name": "stdout",
     "output_type": "stream",
     "text": [
      "[1 0 1 1 1 0 0 1 0 1 0 1 0 0 1 0 0 0 0 0 0 0 1 0 1 0 1 1 0 1 1 0 0 1 0 0 0\n",
      " 0 0 0 1 1 1 0 0 0 0 0 1 0 0 1 0 0 0 1 0 0 0 1 0 0 0 0 0 1 0 0 1 0 0 0 0 0\n",
      " 1 0 1 0 0 1 0 0 0 0 1 0 0 0 0 0 0 0 0 1 0 0 0 1 0 0 0 0 0 1 1 0 0 0 0 0 0\n",
      " 0 0 0 0 0 0 0 1 1 1 0 0 0 1 1 1 1 0 0 0 0 1 0 0 1 1 0 0 1 1 0 1 1 0 1 0 0\n",
      " 1 0 1 0 0 1 0 0 0 0 1 0 0 0 1 0 0 1 1 0 0 0 1 0 1 0 1 0 0 0 1] \n",
      "\n",
      "[[-0.01980106 -0.48625707 -0.42758237  0.01422634 -0.12016445 -2.50184235\n",
      "  -0.41454816]]\n",
      "cross validation: 0.7908401457697233\n",
      "correct: 0.7821229050279329\n"
     ]
    }
   ],
   "source": [
    "#model1: Logistic Regression\n",
    "\n",
    "model1=LogisticRegression(max_iter=1000)\n",
    "model1.fit(x_train, y_train)\n",
    "print(model1.predict(x_test), '\\n')\n",
    "print(model1.coef_)\n",
    "print('cross validation:', np.mean(cross_val_score(model1, x_train, y_train)))\n",
    "print('correct:', model1.score(x_test, y_test))"
   ]
  },
  {
   "cell_type": "code",
   "execution_count": 11,
   "metadata": {},
   "outputs": [
    {
     "name": "stdout",
     "output_type": "stream",
     "text": [
      "[1 0 1 1 1 0 0 1 1 1 0 0 0 0 1 1 0 0 0 0 1 0 1 0 1 0 1 1 0 1 1 1 1 0 0 0 1\n",
      " 0 0 0 0 1 1 0 1 0 0 0 1 0 0 1 1 0 0 0 0 0 0 0 0 0 0 0 0 0 0 0 1 0 0 0 0 0\n",
      " 1 0 1 0 0 1 0 0 0 0 0 0 0 0 0 0 0 0 0 1 0 0 0 1 0 0 0 0 1 0 1 0 0 0 0 0 1\n",
      " 0 0 0 0 0 0 0 1 0 1 0 0 0 1 1 1 0 0 0 0 0 1 0 0 1 1 0 0 1 1 0 1 0 0 0 0 0\n",
      " 0 0 1 0 0 0 0 1 0 0 0 0 0 0 1 1 0 0 0 0 1 0 1 0 1 0 1 0 0 0 1] \n",
      "\n",
      "cross validation: 0.817605633802817\n",
      "correct: 0.7597765363128491\n"
     ]
    }
   ],
   "source": [
    "#model2: Random Forest\n",
    "\n",
    "model2=RandomForestClassifier()\n",
    "model2.fit(x_train, y_train)\n",
    "print(model2.predict(x_test), '\\n')\n",
    "print('cross validation:', np.mean(cross_val_score(model2, x_train, y_train, cv=10)))\n",
    "print('correct:', model2.score(x_test, y_test))\n",
    "\n",
    "estimator=model2.estimators_[5]\n",
    "export_graphviz(estimator, out_file=\"C:/Users/user/workspace/data/titanic/titanic_forest.dot\", \n",
    "                feature_names=dvec.feature_names_, \n",
    "                class_names=[\"0\", \"1\"], \n",
    "                rounded=True, proportion=False, \n",
    "                precision=2, filled=True)\n",
    "#dot -Tpng titanic_forest.dot -o titanic_forest.png"
   ]
  },
  {
   "cell_type": "code",
   "execution_count": 12,
   "metadata": {},
   "outputs": [
    {
     "name": "stdout",
     "output_type": "stream",
     "text": [
      "<class 'pandas.core.frame.DataFrame'>\n",
      "RangeIndex: 418 entries, 0 to 417\n",
      "Data columns (total 7 columns):\n",
      " #   Column      Non-Null Count  Dtype  \n",
      "---  ------      --------------  -----  \n",
      " 0   Age         418 non-null    float64\n",
      " 1   SibSp       418 non-null    int64  \n",
      " 2   Parch       418 non-null    int64  \n",
      " 3   Fare        418 non-null    float64\n",
      " 4   Sex_male    418 non-null    uint8  \n",
      " 5   Embarked_Q  418 non-null    uint8  \n",
      " 6   Embarked_S  418 non-null    uint8  \n",
      "dtypes: float64(2), int64(2), uint8(3)\n",
      "memory usage: 14.4 KB\n",
      "None\n",
      "['Age', 'Embarked_Q', 'Embarked_S', 'Fare', 'Parch', 'Sex_male', 'SibSp']\n"
     ]
    }
   ],
   "source": [
    "#prediction output\n",
    "\n",
    "df_test['Age']=df_test['Age'].fillna(df_test['Age'].median())\n",
    "df_test['Fare']=df_test['Fare'].fillna(df_test['Fare'].mean())\n",
    "\n",
    "test_x=df_test.drop(['PassengerId', 'Pclass', 'Name', 'Ticket', 'Cabin'], axis='columns')\n",
    "test_x=pd.get_dummies(test_x, columns=['Sex', 'Embarked'])\n",
    "test_x=test_x.drop(['Sex_female', 'Embarked_C'], axis='columns')\n",
    "print(test_x.info())\n",
    "\n",
    "test_dvec=DictVectorizer(sparse=False)\n",
    "test_x1=test_dvec.fit_transform(test_x.to_dict(orient='records'))\n",
    "print(test_dvec.feature_names_)\n",
    "#print(model1.predict(test_x))\n",
    "\n",
    "output1=pd.DataFrame({\n",
    "    \"PassengerId\":df_test.PassengerId,\n",
    "    \"Survived\":model1.predict(test_x)\n",
    "})\n",
    "output1.head(5)\n",
    "output1.to_csv(\"C:/Users/user/workspace/data/titanic/submission_logistic.csv\", index=False)\n",
    "\n",
    "output2=pd.DataFrame({\n",
    "    \"PassengerId\":df_test.PassengerId,\n",
    "    \"Survived\":model2.predict(test_x)\n",
    "})\n",
    "output2.head(5)\n",
    "output2.to_csv(\"C:/Users/user/workspace/data/titanic/submission_forest.csv\", index=False)"
   ]
  },
  {
   "cell_type": "code",
   "execution_count": null,
   "metadata": {},
   "outputs": [],
   "source": []
  }
 ],
 "metadata": {
  "kernelspec": {
   "display_name": "Python 3",
   "language": "python",
   "name": "python3"
  },
  "language_info": {
   "codemirror_mode": {
    "name": "ipython",
    "version": 3
   },
   "file_extension": ".py",
   "mimetype": "text/x-python",
   "name": "python",
   "nbconvert_exporter": "python",
   "pygments_lexer": "ipython3",
   "version": "3.8.5"
  }
 },
 "nbformat": 4,
 "nbformat_minor": 4
}
